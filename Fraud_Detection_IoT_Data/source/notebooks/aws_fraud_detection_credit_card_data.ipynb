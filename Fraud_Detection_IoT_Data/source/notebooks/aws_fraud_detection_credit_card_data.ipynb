{
 "cells": [
  {
   "cell_type": "markdown",
   "id": "b9c0c78e",
   "metadata": {},
   "source": [
    "# **Credit Card Fraud Detection: Model Deployment and Evaluation**\n",
    "\n",
    "This notebook focuses on deploying and evaluating a machine learning model on AWS for credit card fraud detection to demonstrate the feasibility of the project. The primary objective is to showcase the deployment and operational aspects of a Random Cut Forest (RCF) model using Amazon SageMaker. The model is trained on credit card transaction data, and its effectiveness in identifying fraudulent activities is assessed. \n",
    "\n",
    "The reason why we didn't use Zen Network Data is that we have a huge amount of data and we are constrained by our free AWS account. We have performed similar operations and demonstrated anomaly detection is also possible in Zen Network's data, but we conducted it locally to avoid charges on our AWS account. For more details about the work we did (data preprocessing, feature engineering, model deployment, and evaluation), please refer to local_fraud_detection_1week_zennetwork_data.ipynb.\n",
    "\n",
    "## 1. Environment Setup and Data Retrieval\n",
    "\n",
    "Configuring the Python environment, importing necessary libraries, and obtaining the credit card dataset from an Amazon S3 bucket. This ensures a smooth setup for subsequent tasks.\n",
    "\n",
    "## 2. Model Training and Deployment\n",
    "\n",
    "Training the Random Cut Forest (RCF) model on the credit card data and deploying it as an endpoint using Amazon SageMaker. This section includes configuring the training job and the real-time predictor for the model.\n",
    "\n",
    "## 3. Data Processing and Feature Engineering\n",
    "\n",
    "Preprocessing the data by converting string columns to the appropriate data type (FloatType) to ensure compatibility with the RCF model. This step is crucial for accurate predictions.\n",
    "\n",
    "## 4. Model Evaluation and Clustering\n",
    "\n",
    "Utilizing the deployed RCF model to predict anomaly scores for the test data. The notebook incorporates K-Means clustering to group these scores, aiding in the identification of potential fraudulent transactions.\n",
    "\n",
    "## 5. Traffic Generation and Monitoring\n",
    "\n",
    "Generating endpoint traffic for model evaluation and displaying relevant configuration information. The notebook concludes with the deletion of the RCF models and endpoints.\n",
    "\n",
    "By the end of this notebook, readers will gain insights into deploying and evaluating a credit card fraud detection model using Amazon SageMaker. The demonstrated techniques can serve as a foundation for implementing fraud detection solutions in real-world scenarios, helping Zen Network enhance their security measures."
   ]
  },
  {
   "cell_type": "markdown",
   "id": "c3d0f30a",
   "metadata": {},
   "source": [
    "### Seting up the configuration of the ressources "
   ]
  },
  {
   "cell_type": "markdown",
   "id": "ca1e2135",
   "metadata": {},
   "source": [
    "### Downloading Dataset from Amazon S3\n",
    "\n",
    "This code cell downloads a dataset from an Amazon S3 bucket using the Amazon SageMaker instance of type `ml.m5.large`. The dataset is specified by the `s3_path` variable, which points to a file named \"creditcard.csv\" in the S3 bucket \"sagemaker-soln-fdml--897823429068-md\". The necessary AWS credentials and configuration are handled by the `boto3` library, and the dataset is saved locally with the same name (\"creditcard.csv\").\n"
   ]
  },
  {
   "cell_type": "code",
   "execution_count": 2,
   "id": "a72fa9ff",
   "metadata": {},
   "outputs": [],
   "source": [
    "import sys\n",
    "import boto3\n",
    "from package import config\n",
    "\n",
    "sys.path.insert(0, './src/')\n",
    "instance_type = 'ml.m5.large'\n",
    "\n",
    "#s3_path = \"s3://sagemaker-soln-fdml--897823429068-md/april-01-07.csv\"\n",
    "s3_path = \"s3://sagemaker-soln-fdml--897823429068-md/creditcard.csv\"\n",
    "\n",
    "bucket, key = s3_path.replace(\"s3://\", \"\").split(\"/\", 1)\n",
    "\n",
    "\n",
    "s3 = boto3.client('s3', region_name=config.AWS_REGION)\n",
    "s3.download_file(bucket, key, \"creditcard.csv\")"
   ]
  },
  {
   "cell_type": "code",
   "execution_count": 3,
   "id": "bb5d59e6",
   "metadata": {},
   "outputs": [],
   "source": [
    "# s3.download_file(bucket, key, \"april-01-07.csv\")\n",
    "# s3.download_file(bucket, key, \"creditcard.csv\")"
   ]
  },
  {
   "cell_type": "markdown",
   "id": "0461caa0",
   "metadata": {},
   "source": [
    "### Setting up Apache Spark Session for S2D Project\n",
    "\n",
    "This code cell initializes an Apache Spark session named \"S2D Projet\" for the S2D (Spark to Delta) project. It configures Spark to work with Amazon S3 using the Hadoop AWS library version 3.3.1. The session is set up to use the S3A file system, and AWS credentials are obtained using the `DefaultAWSCredentialsProviderChain`. The S3 endpoint is specified as \"s3.amazonaws.com\", and path style access is enabled. Additionally, the Spark driver memory is set to 16 gigabytes.\n",
    "\n",
    "Ensure that the Spark configuration parameters align with your AWS environment and Spark project requirements.\n"
   ]
  },
  {
   "cell_type": "code",
   "execution_count": 4,
   "id": "31621e7d",
   "metadata": {},
   "outputs": [
    {
     "name": "stdout",
     "output_type": "stream",
     "text": [
      ":: loading settings :: url = jar:file:/home/ec2-user/anaconda3/envs/python3/lib/python3.10/site-packages/pyspark/jars/ivy-2.5.0.jar!/org/apache/ivy/core/settings/ivysettings.xml\n"
     ]
    },
    {
     "name": "stderr",
     "output_type": "stream",
     "text": [
      "Ivy Default Cache set to: /home/ec2-user/.ivy2/cache\n",
      "The jars for the packages stored in: /home/ec2-user/.ivy2/jars\n",
      "org.apache.hadoop#hadoop-aws added as a dependency\n",
      ":: resolving dependencies :: org.apache.spark#spark-submit-parent-f7ec8523-0882-4cdf-b7bc-78d118284dbf;1.0\n",
      "\tconfs: [default]\n",
      "\tfound org.apache.hadoop#hadoop-aws;3.3.1 in central\n",
      "\tfound com.amazonaws#aws-java-sdk-bundle;1.11.901 in central\n",
      "\tfound org.wildfly.openssl#wildfly-openssl;1.0.7.Final in central\n",
      "downloading https://repo1.maven.org/maven2/org/apache/hadoop/hadoop-aws/3.3.1/hadoop-aws-3.3.1.jar ...\n",
      "\t[SUCCESSFUL ] org.apache.hadoop#hadoop-aws;3.3.1!hadoop-aws.jar (60ms)\n",
      "downloading https://repo1.maven.org/maven2/com/amazonaws/aws-java-sdk-bundle/1.11.901/aws-java-sdk-bundle-1.11.901.jar ...\n",
      "\t[SUCCESSFUL ] com.amazonaws#aws-java-sdk-bundle;1.11.901!aws-java-sdk-bundle.jar (2784ms)\n",
      "downloading https://repo1.maven.org/maven2/org/wildfly/openssl/wildfly-openssl/1.0.7.Final/wildfly-openssl-1.0.7.Final.jar ...\n",
      "\t[SUCCESSFUL ] org.wildfly.openssl#wildfly-openssl;1.0.7.Final!wildfly-openssl.jar (12ms)\n",
      ":: resolution report :: resolve 3601ms :: artifacts dl 2871ms\n",
      "\t:: modules in use:\n",
      "\tcom.amazonaws#aws-java-sdk-bundle;1.11.901 from central in [default]\n",
      "\torg.apache.hadoop#hadoop-aws;3.3.1 from central in [default]\n",
      "\torg.wildfly.openssl#wildfly-openssl;1.0.7.Final from central in [default]\n",
      "\t---------------------------------------------------------------------\n",
      "\t|                  |            modules            ||   artifacts   |\n",
      "\t|       conf       | number| search|dwnlded|evicted|| number|dwnlded|\n",
      "\t---------------------------------------------------------------------\n",
      "\t|      default     |   3   |   3   |   3   |   0   ||   3   |   3   |\n",
      "\t---------------------------------------------------------------------\n",
      ":: retrieving :: org.apache.spark#spark-submit-parent-f7ec8523-0882-4cdf-b7bc-78d118284dbf\n",
      "\tconfs: [default]\n",
      "\t3 artifacts copied, 0 already retrieved (189078kB/156ms)\n"
     ]
    },
    {
     "name": "stdout",
     "output_type": "stream",
     "text": [
      "24/01/13 23:45:51 WARN NativeCodeLoader: Unable to load native-hadoop library for your platform... using builtin-java classes where applicable\n"
     ]
    },
    {
     "name": "stderr",
     "output_type": "stream",
     "text": [
      "Setting default log level to \"WARN\".\n",
      "To adjust logging level use sc.setLogLevel(newLevel). For SparkR, use setLogLevel(newLevel).\n"
     ]
    }
   ],
   "source": [
    "from pyspark.sql import SparkSession\n",
    "\n",
    "# We Create an Apache Spark session named \"S2D Projet\"\n",
    "Spark = SparkSession.builder \\\n",
    "    .appName(\"S2D Projet\") \\\n",
    "    .config(\"spark.jars.packages\", \"org.apache.hadoop:hadoop-aws:3.3.1\") \\\n",
    "    .config(\"spark.hadoop.fs.s3a.impl\", \"org.apache.hadoop.fs.s3a.S3AFileSystem\") \\\n",
    "    .config(\"spark.hadoop.fs.s3a.aws.credentials.provider\", \"com.amazonaws.auth.DefaultAWSCredentialsProviderChain\") \\\n",
    "    .config(\"spark.hadoop.fs.s3a.endpoint\", \"s3.amazonaws.com\") \\\n",
    "    .config(\"spark.hadoop.fs.s3a.path.style.access\", \"true\") \\\n",
    "    .config(\"spark.driver.memory\", \"16g\").getOrCreate()"
   ]
  },
  {
   "cell_type": "markdown",
   "id": "9878fc87",
   "metadata": {},
   "source": [
    "### Data exploration & preprocessing "
   ]
  },
  {
   "cell_type": "markdown",
   "id": "81e57215",
   "metadata": {},
   "source": [
    "First we read the data from the downloaded file `creditcard.csv`, and then we check the portion of the fradulent transactions out of the non-fradulent ones "
   ]
  },
  {
   "cell_type": "code",
   "execution_count": 6,
   "id": "dbb61815",
   "metadata": {},
   "outputs": [
    {
     "name": "stderr",
     "output_type": "stream",
     "text": [
      "[Stage 1:=============================>                             (1 + 1) / 2]\r"
     ]
    },
    {
     "name": "stdout",
     "output_type": "stream",
     "text": [
      "Number of frauds:  492\n",
      "Number of non-frauds:  284315\n",
      "Percentage of fraudulent data: 0.1727485630620034\n"
     ]
    },
    {
     "name": "stderr",
     "output_type": "stream",
     "text": [
      "                                                                                \r"
     ]
    }
   ],
   "source": [
    "# We Read the credit card dataset into a Spark DataFrame\n",
    "Data = Spark.read.csv('creditcard.csv', header=True)\n",
    "\n",
    "# We Group by the 'Class' column and calculate the count of occurrences for each class\n",
    "frauds_nonfrauds_count = Data.groupBy('Class').count().collect()\n",
    "\n",
    "# We Extract the counts for frauds and non-frauds\n",
    "nonfrauds, frauds = [count[1] for count in frauds_nonfrauds_count]\n",
    "\n",
    "print('Number of frauds: ', frauds)\n",
    "print('Number of non-frauds: ', nonfrauds)\n",
    "\n",
    "# We Calculate and print the percentage of fraudulent data in the dataset\n",
    "print('Percentage of fraudulent data:', 100. * frauds / (frauds + nonfrauds))"
   ]
  },
  {
   "cell_type": "markdown",
   "id": "743194ba",
   "metadata": {},
   "source": [
    "Initially, it is essential to verify that the data types of each column in our dataset are correctly specified. This process involves iterating through the feature columns of the Spark DataFrame Data and converting any columns identified as StringType to FloatType using `pyspark` package for parallel processing."
   ]
  },
  {
   "cell_type": "code",
   "execution_count": 7,
   "id": "d1d8f81b",
   "metadata": {},
   "outputs": [],
   "source": [
    "from pyspark.sql.types import FloatType, StringType\n",
    "\n",
    "# We Retrieve a list of feature columns (excluding the 'label' column) \n",
    "feature_columns = [col_name for col_name in Data.columns if col_name != 'label']\n",
    "\n",
    "# We Iterate through each feature column and check if its data type is StringType\n",
    "for col_name in feature_columns:\n",
    "    if Data.schema[col_name].dataType == StringType():\n",
    "        Data = Data.withColumn(col_name, Data[col_name].cast(FloatType()))"
   ]
  },
  {
   "cell_type": "markdown",
   "id": "14dd097a",
   "metadata": {},
   "source": [
    "Here we define our features and labels datasets for future use"
   ]
  },
  {
   "cell_type": "code",
   "execution_count": 8,
   "id": "28a91af7",
   "metadata": {},
   "outputs": [],
   "source": [
    "features = Data.select(Data.columns[:-1])\n",
    "labels = Data.select(Data.columns[-1])"
   ]
  },
  {
   "cell_type": "code",
   "execution_count": 9,
   "id": "a2945b8c",
   "metadata": {},
   "outputs": [
    {
     "name": "stderr",
     "output_type": "stream",
     "text": [
      "/home/ec2-user/anaconda3/envs/python3/lib/python3.10/site-packages/pandas/core/computation/expressions.py:21: UserWarning: Pandas requires version '2.8.0' or newer of 'numexpr' (version '2.7.3' currently installed).\n",
      "  from pandas.core.computation.check import NUMEXPR_INSTALLED\n"
     ]
    },
    {
     "name": "stdout",
     "output_type": "stream",
     "text": [
      "24/01/13 23:46:32 WARN package: Truncated the string representation of a plan since it was too large. This behavior can be adjusted by setting 'spark.sql.debug.maxToStringFields'.\n"
     ]
    },
    {
     "name": "stderr",
     "output_type": "stream",
     "text": [
      "                                                                                \r"
     ]
    }
   ],
   "source": [
    "X = features.toPandas()\n",
    "y = labels.toPandas()"
   ]
  },
  {
   "cell_type": "markdown",
   "id": "5f307d8d",
   "metadata": {},
   "source": [
    "We split our data into a training and test set with a proportion of 0.1 to prepare the data for the machine learning model."
   ]
  },
  {
   "cell_type": "code",
   "execution_count": 10,
   "id": "e1e0d88d",
   "metadata": {},
   "outputs": [],
   "source": [
    "from sklearn.model_selection import train_test_split\n",
    "X_train, X_test, y_train, y_test = train_test_split(X, y, test_size=0.1, random_state=42)"
   ]
  },
  {
   "cell_type": "markdown",
   "id": "b11369b7",
   "metadata": {},
   "source": [
    "### Applying the machine learning model"
   ]
  },
  {
   "cell_type": "markdown",
   "id": "014b0045",
   "metadata": {},
   "source": [
    "First we initialize a `SageMaker.session` , specifie the S3 bucket for storing model data, and sets a prefix for organizing data within the bucket"
   ]
  },
  {
   "cell_type": "code",
   "execution_count": 11,
   "id": "7fe4229a",
   "metadata": {},
   "outputs": [
    {
     "name": "stdout",
     "output_type": "stream",
     "text": [
      "sagemaker.config INFO - Not applying SDK defaults from location: /etc/xdg/sagemaker/config.yaml\n",
      "sagemaker.config INFO - Not applying SDK defaults from location: /home/ec2-user/.config/sagemaker/config.yaml\n"
     ]
    }
   ],
   "source": [
    "# We Import necessary libraries\n",
    "import os\n",
    "import sagemaker\n",
    "from package import config\n",
    "\n",
    "# We Create a SageMaker session\n",
    "session = sagemaker.Session()\n",
    "\n",
    "# We Specify the S3 bucket for storing model data\n",
    "bucket = config.MODEL_DATA_S3_BUCKET\n",
    "\n",
    "# We Define a prefix for organizing data within the bucket\n",
    "prefix = 'fraud-classifier'"
   ]
  },
  {
   "cell_type": "markdown",
   "id": "ba3329bb",
   "metadata": {},
   "source": [
    "Next, we import the `RandomCutForest` model specifically designed for **anomaly detection** problems"
   ]
  },
  {
   "cell_type": "code",
   "execution_count": 12,
   "id": "b99558e5",
   "metadata": {},
   "outputs": [
    {
     "name": "stderr",
     "output_type": "stream",
     "text": [
      "train_instance_count has been renamed in sagemaker>=2.\n",
      "See: https://sagemaker.readthedocs.io/en/stable/v2.html for details.\n",
      "train_instance_type has been renamed in sagemaker>=2.\n",
      "See: https://sagemaker.readthedocs.io/en/stable/v2.html for details.\n"
     ]
    }
   ],
   "source": [
    "from sagemaker import RandomCutForest\n",
    "\n",
    "# We specify general training job information\n",
    "rcf = RandomCutForest(role=config.SAGEMAKER_IAM_ROLE,\n",
    "                      train_instance_count=1,\n",
    "                      train_instance_type=instance_type,\n",
    "                      data_location='s3://{}/{}/'.format(bucket, prefix),\n",
    "                      output_path='s3://{}/{}/output'.format(bucket, prefix),\n",
    "                      base_job_name=\"{}-rcf\".format(config.SOLUTION_PREFIX),\n",
    "                      num_samples_per_tree=512,\n",
    "                      num_trees=50)"
   ]
  },
  {
   "cell_type": "markdown",
   "id": "72783633",
   "metadata": {},
   "source": [
    "then we fit to model with the prepared train set"
   ]
  },
  {
   "cell_type": "code",
   "execution_count": 13,
   "id": "8a130bc6",
   "metadata": {},
   "outputs": [
    {
     "name": "stderr",
     "output_type": "stream",
     "text": [
      "INFO:sagemaker.image_uris:Same images used for training and inference. Defaulting to image scope: inference.\n",
      "INFO:sagemaker.image_uris:Ignoring unnecessary instance type: None.\n",
      "INFO:sagemaker:Creating training-job with name: sagemaker-soln-fdml--rcf-2024-01-13-23-47-12-678\n"
     ]
    },
    {
     "name": "stdout",
     "output_type": "stream",
     "text": [
      "2024-01-13 23:47:12 Starting - Starting the training job...\n",
      "2024-01-13 23:47:30 Starting - Preparing the instances for training.........\n",
      "2024-01-13 23:48:55 Downloading - Downloading input data...\n",
      "2024-01-13 23:49:30 Downloading - Downloading the training image...............\n",
      "2024-01-13 23:52:06 Training - Training image download completed. Training in progress..\u001b[34mDocker entrypoint called with argument(s): train\u001b[0m\n",
      "\u001b[34mRunning default environment configuration script\u001b[0m\n",
      "\u001b[34m/opt/amazon/lib/python3.8/site-packages/mxnet/model.py:97: SyntaxWarning: \"is\" with a literal. Did you mean \"==\"?\n",
      "  if num_device is 1 and 'dist' not in kvstore:\u001b[0m\n",
      "\u001b[34m/opt/amazon/lib/python3.8/site-packages/scipy/optimize/_shgo.py:495: SyntaxWarning: \"is\" with a literal. Did you mean \"==\"?\n",
      "  if cons['type'] is 'ineq':\u001b[0m\n",
      "\u001b[34m/opt/amazon/lib/python3.8/site-packages/scipy/optimize/_shgo.py:743: SyntaxWarning: \"is not\" with a literal. Did you mean \"!=\"?\n",
      "  if len(self.X_min) is not 0:\u001b[0m\n",
      "\u001b[34m[01/13/2024 23:52:13 INFO 139905570592576] Reading default configuration from /opt/amazon/lib/python3.8/site-packages/algorithm/resources/default-conf.json: {'num_samples_per_tree': 256, 'num_trees': 100, 'force_dense': 'true', 'eval_metrics': ['accuracy', 'precision_recall_fscore'], 'epochs': 1, 'mini_batch_size': 1000, '_log_level': 'info', '_kvstore': 'dist_async', '_num_kv_servers': 'auto', '_num_gpus': 'auto', '_tuning_objective_metric': '', '_ftp_port': 8999}\u001b[0m\n",
      "\u001b[34m[01/13/2024 23:52:13 INFO 139905570592576] Merging with provided configuration from /opt/ml/input/config/hyperparameters.json: {'feature_dim': '30', 'mini_batch_size': '1000', 'num_samples_per_tree': '512', 'num_trees': '50'}\u001b[0m\n",
      "\u001b[34m[01/13/2024 23:52:13 INFO 139905570592576] Final configuration: {'num_samples_per_tree': '512', 'num_trees': '50', 'force_dense': 'true', 'eval_metrics': ['accuracy', 'precision_recall_fscore'], 'epochs': 1, 'mini_batch_size': '1000', '_log_level': 'info', '_kvstore': 'dist_async', '_num_kv_servers': 'auto', '_num_gpus': 'auto', '_tuning_objective_metric': '', '_ftp_port': 8999, 'feature_dim': '30'}\u001b[0m\n",
      "\u001b[34m[01/13/2024 23:52:13 WARNING 139905570592576] Loggers have already been setup.\u001b[0m\n",
      "\u001b[34m[01/13/2024 23:52:13 INFO 139905570592576] Launching parameter server for role scheduler\u001b[0m\n",
      "\u001b[34m[01/13/2024 23:52:13 INFO 139905570592576] {'ENVROOT': '/opt/amazon', 'PROTOCOL_BUFFERS_PYTHON_IMPLEMENTATION': 'cpp', 'HOSTNAME': 'ip-10-0-176-238.eu-west-3.compute.internal', 'TRAINING_JOB_NAME': 'sagemaker-soln-fdml--rcf-2024-01-13-23-47-12-678', 'NVIDIA_REQUIRE_CUDA': 'cuda>=9.0', 'TRAINING_JOB_ARN': 'arn:aws:sagemaker:eu-west-3:897823429068:training-job/sagemaker-soln-fdml--rcf-2024-01-13-23-47-12-678', 'AWS_CONTAINER_CREDENTIALS_RELATIVE_URI': '/v2/credentials/proxy-a4a83ab97cf142b6ace302320f66862bd3e9ead80ed7f6d189c6e130508c54e9-customer', 'CANONICAL_ENVROOT': '/opt/amazon', 'PYTHONUNBUFFERED': 'TRUE', 'NVIDIA_VISIBLE_DEVICES': 'all', 'LD_LIBRARY_PATH': '/opt/amazon/lib/python3.8/site-packages/cv2/../../../../lib:/usr/local/nvidia/lib64:/opt/amazon/lib', 'MXNET_KVSTORE_BIGARRAY_BOUND': '400000000', 'NVIDIA_DRIVER_CAPABILITIES': 'compute,utility', 'SAGEMAKER_MANAGED_WARMPOOL_CACHE_DIRECTORY': '/opt/ml/sagemaker/warmpoolcache', 'PATH': '/opt/amazon/bin:/usr/local/nvidia/bin:/usr/local/sbin:/usr/local/bin:/usr/sbin:/usr/bin:/sbin:/bin', 'PWD': '/', 'LANG': 'en_US.utf8', 'AWS_REGION': 'eu-west-3', 'SAGEMAKER_METRICS_DIRECTORY': '/opt/ml/output/metrics/sagemaker', 'CUDA_VERSION': '11.1', 'HOME': '/root', 'SHLVL': '1', 'CUDA_COMPAT_NDRIVER_SUPPORTED_VERSION': '455.32.00', 'PROTOCOL_BUFFERS_PYTHON_IMPLEMENTATION_VERSION': '2', 'OMP_NUM_THREADS': '1', 'DMLC_INTERFACE': 'eth0', 'SAGEMAKER_HTTP_PORT': '8080', 'SAGEMAKER_DATA_PATH': '/opt/ml', 'KMP_DUPLICATE_LIB_OK': 'True', 'KMP_INIT_AT_FORK': 'FALSE'}\u001b[0m\n",
      "\u001b[34m[01/13/2024 23:52:13 INFO 139905570592576] envs={'ENVROOT': '/opt/amazon', 'PROTOCOL_BUFFERS_PYTHON_IMPLEMENTATION': 'cpp', 'HOSTNAME': 'ip-10-0-176-238.eu-west-3.compute.internal', 'TRAINING_JOB_NAME': 'sagemaker-soln-fdml--rcf-2024-01-13-23-47-12-678', 'NVIDIA_REQUIRE_CUDA': 'cuda>=9.0', 'TRAINING_JOB_ARN': 'arn:aws:sagemaker:eu-west-3:897823429068:training-job/sagemaker-soln-fdml--rcf-2024-01-13-23-47-12-678', 'AWS_CONTAINER_CREDENTIALS_RELATIVE_URI': '/v2/credentials/proxy-a4a83ab97cf142b6ace302320f66862bd3e9ead80ed7f6d189c6e130508c54e9-customer', 'CANONICAL_ENVROOT': '/opt/amazon', 'PYTHONUNBUFFERED': 'TRUE', 'NVIDIA_VISIBLE_DEVICES': 'all', 'LD_LIBRARY_PATH': '/opt/amazon/lib/python3.8/site-packages/cv2/../../../../lib:/usr/local/nvidia/lib64:/opt/amazon/lib', 'MXNET_KVSTORE_BIGARRAY_BOUND': '400000000', 'NVIDIA_DRIVER_CAPABILITIES': 'compute,utility', 'SAGEMAKER_MANAGED_WARMPOOL_CACHE_DIRECTORY': '/opt/ml/sagemaker/warmpoolcache', 'PATH': '/opt/amazon/bin:/usr/local/nvidia/bin:/usr/local/sbin:/usr/local/bin:/usr/sbin:/usr/bin:/sbin:/bin', 'PWD': '/', 'LANG': 'en_US.utf8', 'AWS_REGION': 'eu-west-3', 'SAGEMAKER_METRICS_DIRECTORY': '/opt/ml/output/metrics/sagemaker', 'CUDA_VERSION': '11.1', 'HOME': '/root', 'SHLVL': '1', 'CUDA_COMPAT_NDRIVER_SUPPORTED_VERSION': '455.32.00', 'PROTOCOL_BUFFERS_PYTHON_IMPLEMENTATION_VERSION': '2', 'OMP_NUM_THREADS': '1', 'DMLC_INTERFACE': 'eth0', 'SAGEMAKER_HTTP_PORT': '8080', 'SAGEMAKER_DATA_PATH': '/opt/ml', 'KMP_DUPLICATE_LIB_OK': 'True', 'KMP_INIT_AT_FORK': 'FALSE', 'DMLC_ROLE': 'scheduler', 'DMLC_PS_ROOT_URI': '10.0.176.238', 'DMLC_PS_ROOT_PORT': '9000', 'DMLC_NUM_SERVER': '1', 'DMLC_NUM_WORKER': '1'}\u001b[0m\n",
      "\u001b[34m[01/13/2024 23:52:13 INFO 139905570592576] Launching parameter server for role server\u001b[0m\n",
      "\u001b[34m[01/13/2024 23:52:13 INFO 139905570592576] {'ENVROOT': '/opt/amazon', 'PROTOCOL_BUFFERS_PYTHON_IMPLEMENTATION': 'cpp', 'HOSTNAME': 'ip-10-0-176-238.eu-west-3.compute.internal', 'TRAINING_JOB_NAME': 'sagemaker-soln-fdml--rcf-2024-01-13-23-47-12-678', 'NVIDIA_REQUIRE_CUDA': 'cuda>=9.0', 'TRAINING_JOB_ARN': 'arn:aws:sagemaker:eu-west-3:897823429068:training-job/sagemaker-soln-fdml--rcf-2024-01-13-23-47-12-678', 'AWS_CONTAINER_CREDENTIALS_RELATIVE_URI': '/v2/credentials/proxy-a4a83ab97cf142b6ace302320f66862bd3e9ead80ed7f6d189c6e130508c54e9-customer', 'CANONICAL_ENVROOT': '/opt/amazon', 'PYTHONUNBUFFERED': 'TRUE', 'NVIDIA_VISIBLE_DEVICES': 'all', 'LD_LIBRARY_PATH': '/opt/amazon/lib/python3.8/site-packages/cv2/../../../../lib:/usr/local/nvidia/lib64:/opt/amazon/lib', 'MXNET_KVSTORE_BIGARRAY_BOUND': '400000000', 'NVIDIA_DRIVER_CAPABILITIES': 'compute,utility', 'SAGEMAKER_MANAGED_WARMPOOL_CACHE_DIRECTORY': '/opt/ml/sagemaker/warmpoolcache', 'PATH': '/opt/amazon/bin:/usr/local/nvidia/bin:/usr/local/sbin:/usr/local/bin:/usr/sbin:/usr/bin:/sbin:/bin', 'PWD': '/', 'LANG': 'en_US.utf8', 'AWS_REGION': 'eu-west-3', 'SAGEMAKER_METRICS_DIRECTORY': '/opt/ml/output/metrics/sagemaker', 'CUDA_VERSION': '11.1', 'HOME': '/root', 'SHLVL': '1', 'CUDA_COMPAT_NDRIVER_SUPPORTED_VERSION': '455.32.00', 'PROTOCOL_BUFFERS_PYTHON_IMPLEMENTATION_VERSION': '2', 'OMP_NUM_THREADS': '1', 'DMLC_INTERFACE': 'eth0', 'SAGEMAKER_HTTP_PORT': '8080', 'SAGEMAKER_DATA_PATH': '/opt/ml', 'KMP_DUPLICATE_LIB_OK': 'True', 'KMP_INIT_AT_FORK': 'FALSE'}\u001b[0m\n",
      "\u001b[34m[01/13/2024 23:52:13 INFO 139905570592576] envs={'ENVROOT': '/opt/amazon', 'PROTOCOL_BUFFERS_PYTHON_IMPLEMENTATION': 'cpp', 'HOSTNAME': 'ip-10-0-176-238.eu-west-3.compute.internal', 'TRAINING_JOB_NAME': 'sagemaker-soln-fdml--rcf-2024-01-13-23-47-12-678', 'NVIDIA_REQUIRE_CUDA': 'cuda>=9.0', 'TRAINING_JOB_ARN': 'arn:aws:sagemaker:eu-west-3:897823429068:training-job/sagemaker-soln-fdml--rcf-2024-01-13-23-47-12-678', 'AWS_CONTAINER_CREDENTIALS_RELATIVE_URI': '/v2/credentials/proxy-a4a83ab97cf142b6ace302320f66862bd3e9ead80ed7f6d189c6e130508c54e9-customer', 'CANONICAL_ENVROOT': '/opt/amazon', 'PYTHONUNBUFFERED': 'TRUE', 'NVIDIA_VISIBLE_DEVICES': 'all', 'LD_LIBRARY_PATH': '/opt/amazon/lib/python3.8/site-packages/cv2/../../../../lib:/usr/local/nvidia/lib64:/opt/amazon/lib', 'MXNET_KVSTORE_BIGARRAY_BOUND': '400000000', 'NVIDIA_DRIVER_CAPABILITIES': 'compute,utility', 'SAGEMAKER_MANAGED_WARMPOOL_CACHE_DIRECTORY': '/opt/ml/sagemaker/warmpoolcache', 'PATH': '/opt/amazon/bin:/usr/local/nvidia/bin:/usr/local/sbin:/usr/local/bin:/usr/sbin:/usr/bin:/sbin:/bin', 'PWD': '/', 'LANG': 'en_US.utf8', 'AWS_REGION': 'eu-west-3', 'SAGEMAKER_METRICS_DIRECTORY': '/opt/ml/output/metrics/sagemaker', 'CUDA_VERSION': '11.1', 'HOME': '/root', 'SHLVL': '1', 'CUDA_COMPAT_NDRIVER_SUPPORTED_VERSION': '455.32.00', 'PROTOCOL_BUFFERS_PYTHON_IMPLEMENTATION_VERSION': '2', 'OMP_NUM_THREADS': '1', 'DMLC_INTERFACE': 'eth0', 'SAGEMAKER_HTTP_PORT': '8080', 'SAGEMAKER_DATA_PATH': '/opt/ml', 'KMP_DUPLICATE_LIB_OK': 'True', 'KMP_INIT_AT_FORK': 'FALSE', 'DMLC_ROLE': 'server', 'DMLC_PS_ROOT_URI': '10.0.176.238', 'DMLC_PS_ROOT_PORT': '9000', 'DMLC_NUM_SERVER': '1', 'DMLC_NUM_WORKER': '1'}\u001b[0m\n",
      "\u001b[34m[01/13/2024 23:52:13 INFO 139905570592576] Environment: {'ENVROOT': '/opt/amazon', 'PROTOCOL_BUFFERS_PYTHON_IMPLEMENTATION': 'cpp', 'HOSTNAME': 'ip-10-0-176-238.eu-west-3.compute.internal', 'TRAINING_JOB_NAME': 'sagemaker-soln-fdml--rcf-2024-01-13-23-47-12-678', 'NVIDIA_REQUIRE_CUDA': 'cuda>=9.0', 'TRAINING_JOB_ARN': 'arn:aws:sagemaker:eu-west-3:897823429068:training-job/sagemaker-soln-fdml--rcf-2024-01-13-23-47-12-678', 'AWS_CONTAINER_CREDENTIALS_RELATIVE_URI': '/v2/credentials/proxy-a4a83ab97cf142b6ace302320f66862bd3e9ead80ed7f6d189c6e130508c54e9-customer', 'CANONICAL_ENVROOT': '/opt/amazon', 'PYTHONUNBUFFERED': 'TRUE', 'NVIDIA_VISIBLE_DEVICES': 'all', 'LD_LIBRARY_PATH': '/opt/amazon/lib/python3.8/site-packages/cv2/../../../../lib:/usr/local/nvidia/lib64:/opt/amazon/lib', 'MXNET_KVSTORE_BIGARRAY_BOUND': '400000000', 'NVIDIA_DRIVER_CAPABILITIES': 'compute,utility', 'SAGEMAKER_MANAGED_WARMPOOL_CACHE_DIRECTORY': '/opt/ml/sagemaker/warmpoolcache', 'PATH': '/opt/amazon/bin:/usr/local/nvidia/bin:/usr/local/sbin:/usr/local/bin:/usr/sbin:/usr/bin:/sbin:/bin', 'PWD': '/', 'LANG': 'en_US.utf8', 'AWS_REGION': 'eu-west-3', 'SAGEMAKER_METRICS_DIRECTORY': '/opt/ml/output/metrics/sagemaker', 'CUDA_VERSION': '11.1', 'HOME': '/root', 'SHLVL': '1', 'CUDA_COMPAT_NDRIVER_SUPPORTED_VERSION': '455.32.00', 'PROTOCOL_BUFFERS_PYTHON_IMPLEMENTATION_VERSION': '2', 'OMP_NUM_THREADS': '1', 'DMLC_INTERFACE': 'eth0', 'SAGEMAKER_HTTP_PORT': '8080', 'SAGEMAKER_DATA_PATH': '/opt/ml', 'KMP_DUPLICATE_LIB_OK': 'True', 'KMP_INIT_AT_FORK': 'FALSE', 'DMLC_ROLE': 'worker', 'DMLC_PS_ROOT_URI': '10.0.176.238', 'DMLC_PS_ROOT_PORT': '9000', 'DMLC_NUM_SERVER': '1', 'DMLC_NUM_WORKER': '1'}\u001b[0m\n",
      "\u001b[34mProcess 32 is a shell:scheduler.\u001b[0m\n",
      "\u001b[34mProcess 41 is a shell:server.\u001b[0m\n",
      "\u001b[34mProcess 7 is a worker.\u001b[0m\n",
      "\u001b[34m[01/13/2024 23:52:13 INFO 139905570592576] Using default worker.\u001b[0m\n",
      "\u001b[34m[01/13/2024 23:52:13 INFO 139905570592576] Loaded iterator creator application/x-recordio-protobuf for content type ('application/x-recordio-protobuf', '1.0')\u001b[0m\n",
      "\u001b[34m[01/13/2024 23:52:13 INFO 139905570592576] Checkpoint loading and saving are disabled.\u001b[0m\n",
      "\u001b[34m[01/13/2024 23:52:13 INFO 139905570592576] Verifying hyperparamemters...\u001b[0m\n",
      "\u001b[34m[01/13/2024 23:52:13 INFO 139905570592576] Hyperparameters are correct.\u001b[0m\n",
      "\u001b[34m[01/13/2024 23:52:13 INFO 139905570592576] Validating that feature_dim agrees with dimensions in training data...\u001b[0m\n",
      "\u001b[34m[01/13/2024 23:52:13 INFO 139905570592576] feature_dim is correct.\u001b[0m\n",
      "\u001b[34m[01/13/2024 23:52:13 INFO 139905570592576] Validating memory limits...\u001b[0m\n",
      "\u001b[34m[01/13/2024 23:52:13 INFO 139905570592576] Available memory in bytes: 6742630400\u001b[0m\n",
      "\u001b[34m[01/13/2024 23:52:13 INFO 139905570592576] Estimated sample size in bytes: 6144000\u001b[0m\n",
      "\u001b[34m[01/13/2024 23:52:13 INFO 139905570592576] Estimated memory needed to build the forest in bytes: 30720000\u001b[0m\n",
      "\u001b[34m[01/13/2024 23:52:13 INFO 139905570592576] Memory limits validated.\u001b[0m\n",
      "\u001b[34m[01/13/2024 23:52:13 INFO 139905570592576] Starting cluster sharing facilities...\u001b[0m\n",
      "\u001b[34m[01/13/2024 23:52:13 INFO 139903159486208] concurrency model: async\u001b[0m\n",
      "\u001b[34m[01/13/2024 23:52:13 INFO 139905570592576] Create Store: dist_async\u001b[0m\n",
      "\u001b[34m[01/13/2024 23:52:13 INFO 139903159486208] masquerade (NAT) address: None\u001b[0m\n",
      "\u001b[34m[01/13/2024 23:52:13 INFO 139903159486208] passive ports: None\u001b[0m\n",
      "\u001b[34m[01/13/2024 23:52:13 INFO 139903159486208] >>> starting FTP server on 0.0.0.0:8999, pid=7 <<<\u001b[0m\n",
      "\u001b[34m[01/13/2024 23:52:14 INFO 139905570592576] Cluster sharing facilities started.\u001b[0m\n",
      "\u001b[34m[01/13/2024 23:52:14 INFO 139905570592576] Verifying all workers are accessible...\u001b[0m\n",
      "\u001b[34m[01/13/2024 23:52:14 INFO 139905570592576] All workers accessible.\u001b[0m\n",
      "\u001b[34m[01/13/2024 23:52:14 INFO 139905570592576] Initializing Sampler...\u001b[0m\n",
      "\u001b[34m[01/13/2024 23:52:14 INFO 139905570592576] Sampler correctly initialized.\u001b[0m\n",
      "\u001b[34m#metrics {\"StartTime\": 1705189933.0866227, \"EndTime\": 1705189934.602824, \"Dimensions\": {\"Algorithm\": \"RandomCutForest\", \"Host\": \"algo-1\", \"Operation\": \"training\"}, \"Metrics\": {\"initialize.time\": {\"sum\": 1511.8510723114014, \"count\": 1, \"min\": 1511.8510723114014, \"max\": 1511.8510723114014}}}\u001b[0m\n",
      "\u001b[34m#metrics {\"StartTime\": 1705189934.6030457, \"EndTime\": 1705189934.6031077, \"Dimensions\": {\"Algorithm\": \"RandomCutForest\", \"Host\": \"algo-1\", \"Operation\": \"training\", \"Meta\": \"init_train_data_iter\"}, \"Metrics\": {\"Total Records Seen\": {\"sum\": 0.0, \"count\": 1, \"min\": 0, \"max\": 0}, \"Total Batches Seen\": {\"sum\": 0.0, \"count\": 1, \"min\": 0, \"max\": 0}, \"Max Records Seen Between Resets\": {\"sum\": 0.0, \"count\": 1, \"min\": 0, \"max\": 0}, \"Max Batches Seen Between Resets\": {\"sum\": 0.0, \"count\": 1, \"min\": 0, \"max\": 0}, \"Reset Count\": {\"sum\": 0.0, \"count\": 1, \"min\": 0, \"max\": 0}, \"Number of Records Since Last Reset\": {\"sum\": 0.0, \"count\": 1, \"min\": 0, \"max\": 0}, \"Number of Batches Since Last Reset\": {\"sum\": 0.0, \"count\": 1, \"min\": 0, \"max\": 0}}}\u001b[0m\n",
      "\u001b[34m[2024-01-13 23:52:14.604] [tensorio] [info] epoch_stats={\"data_pipeline\": \"/opt/ml/input/data/train\", \"epoch\": 0, \"duration\": 1517, \"num_examples\": 1, \"num_bytes\": 148000}\u001b[0m\n",
      "\u001b[34m[01/13/2024 23:52:14 INFO 139905570592576] Sampling training data...\u001b[0m\n",
      "\u001b[34m[2024-01-13 23:52:14.963] [tensorio] [info] epoch_stats={\"data_pipeline\": \"/opt/ml/input/data/train\", \"epoch\": 1, \"duration\": 358, \"num_examples\": 257, \"num_bytes\": 37936248}\u001b[0m\n",
      "\u001b[34m[01/13/2024 23:52:14 INFO 139905570592576] Sampling training data completed.\u001b[0m\n",
      "\u001b[34m#metrics {\"StartTime\": 1705189934.6029904, \"EndTime\": 1705189934.9752617, \"Dimensions\": {\"Algorithm\": \"RandomCutForest\", \"Host\": \"algo-1\", \"Operation\": \"training\"}, \"Metrics\": {\"epochs\": {\"sum\": 1.0, \"count\": 1, \"min\": 1, \"max\": 1}, \"update.time\": {\"sum\": 370.46337127685547, \"count\": 1, \"min\": 370.46337127685547, \"max\": 370.46337127685547}}}\u001b[0m\n",
      "\u001b[34m[01/13/2024 23:52:14 INFO 139905570592576] Early stop condition met. Stopping training.\u001b[0m\n",
      "\u001b[34m[01/13/2024 23:52:14 INFO 139905570592576] #progress_metric: host=algo-1, completed 100 % epochs\u001b[0m\n",
      "\u001b[34m#metrics {\"StartTime\": 1705189934.6047692, \"EndTime\": 1705189934.9759462, \"Dimensions\": {\"Algorithm\": \"RandomCutForest\", \"Host\": \"algo-1\", \"Operation\": \"training\", \"epoch\": 0, \"Meta\": \"training_data_iter\"}, \"Metrics\": {\"Total Records Seen\": {\"sum\": 256326.0, \"count\": 1, \"min\": 256326, \"max\": 256326}, \"Total Batches Seen\": {\"sum\": 257.0, \"count\": 1, \"min\": 257, \"max\": 257}, \"Max Records Seen Between Resets\": {\"sum\": 256326.0, \"count\": 1, \"min\": 256326, \"max\": 256326}, \"Max Batches Seen Between Resets\": {\"sum\": 257.0, \"count\": 1, \"min\": 257, \"max\": 257}, \"Reset Count\": {\"sum\": 1.0, \"count\": 1, \"min\": 1, \"max\": 1}, \"Number of Records Since Last Reset\": {\"sum\": 256326.0, \"count\": 1, \"min\": 256326, \"max\": 256326}, \"Number of Batches Since Last Reset\": {\"sum\": 257.0, \"count\": 1, \"min\": 257, \"max\": 257}}}\u001b[0m\n",
      "\u001b[34m[01/13/2024 23:52:14 INFO 139905570592576] #throughput_metric: host=algo-1, train throughput=690130.7630363697 records/second\u001b[0m\n",
      "\u001b[34m[01/13/2024 23:52:14 INFO 139905570592576] Master node: building Random Cut Forest...\u001b[0m\n",
      "\u001b[34m[01/13/2024 23:52:14 INFO 139905570592576] Gathering samples...\u001b[0m\n",
      "\u001b[34m[01/13/2024 23:52:14 INFO 139905570592576] 25600 samples gathered\u001b[0m\n",
      "\u001b[34m[01/13/2024 23:52:14 INFO 139905570592576] Building Random Cut Forest...\u001b[0m\n",
      "\u001b[34m[01/13/2024 23:52:15 INFO 139905570592576] Random Cut Forest built: \u001b[0m\n",
      "\u001b[34mForestInfo{num_trees: 50, num_samples_in_forest: 25600, num_samples_per_tree: 512, sample_dim: 30, shingle_size: 1, trees_num_nodes: [953, 919, 941, 955, 961, 907, 941, 929, 923, 913, 935, 921, 933, 939, 931, 943, 919, 941, 943, 929, 945, 935, 941, 915, 925, 917, 925, 931, 921, 917, 941, 925, 923, 929, 925, 937, 925, 939, 945, 921, 939, 923, 925, 921, 933, 915, 929, 945, 921, 929, ], trees_depth: [21, 25, 20, 22, 22, 21, 26, 22, 20, 22, 20, 21, 18, 20, 21, 19, 21, 23, 21, 23, 22, 18, 19, 20, 20, 20, 22, 20, 18, 21, 22, 20, 20, 22, 25, 22, 21, 19, 21, 22, 19, 20, 22, 23, 24, 21, 19, 22, 26, 19, ], max_num_nodes: 961, min_num_nodes: 907, avg_num_nodes: 930, max_tree_depth: 26, min_tree_depth: 18, avg_tree_depth: 21, mem_size: 26434032}\u001b[0m\n",
      "\u001b[34m#metrics {\"StartTime\": 1705189934.9754117, \"EndTime\": 1705189935.082295, \"Dimensions\": {\"Algorithm\": \"RandomCutForest\", \"Host\": \"algo-1\", \"Operation\": \"training\"}, \"Metrics\": {\"fit_model.time\": {\"sum\": 81.51078224182129, \"count\": 1, \"min\": 81.51078224182129, \"max\": 81.51078224182129}, \"model.bytes\": {\"sum\": 26434032.0, \"count\": 1, \"min\": 26434032, \"max\": 26434032}, \"finalize.time\": {\"sum\": 105.77607154846191, \"count\": 1, \"min\": 105.77607154846191, \"max\": 105.77607154846191}}}\u001b[0m\n",
      "\u001b[34m[01/13/2024 23:52:15 INFO 139905570592576] Master node: Serializing the RandomCutForest model\u001b[0m\n",
      "\u001b[34m#metrics {\"StartTime\": 1705189935.0824473, \"EndTime\": 1705189935.8197315, \"Dimensions\": {\"Algorithm\": \"RandomCutForest\", \"Host\": \"algo-1\", \"Operation\": \"training\"}, \"Metrics\": {\"serialize_model.time\": {\"sum\": 737.2109889984131, \"count\": 1, \"min\": 737.2109889984131, \"max\": 737.2109889984131}}}\u001b[0m\n",
      "\u001b[34m[01/13/2024 23:52:15 INFO 139905570592576] Test data is not provided.\u001b[0m\n",
      "\u001b[34m#metrics {\"StartTime\": 1705189935.819804, \"EndTime\": 1705189935.8328712, \"Dimensions\": {\"Algorithm\": \"RandomCutForest\", \"Host\": \"algo-1\", \"Operation\": \"training\"}, \"Metrics\": {\"setuptime\": {\"sum\": 32.262563705444336, \"count\": 1, \"min\": 32.262563705444336, \"max\": 32.262563705444336}, \"totaltime\": {\"sum\": 2788.9819145202637, \"count\": 1, \"min\": 2788.9819145202637, \"max\": 2788.9819145202637}}}\u001b[0m\n",
      "\n",
      "2024-01-13 23:52:37 Uploading - Uploading generated training model\n",
      "2024-01-13 23:52:37 Completed - Training job completed\n",
      "Training seconds: 223\n",
      "Billable seconds: 223\n"
     ]
    }
   ],
   "source": [
    "rcf.fit(rcf.record_set(X_train.values.astype('float32')))"
   ]
  },
  {
   "cell_type": "markdown",
   "id": "b3f38bd4",
   "metadata": {},
   "source": [
    "Now we deploy the trained Random Cut Forest (RCF) model for inference using SageMaker."
   ]
  },
  {
   "cell_type": "code",
   "execution_count": 14,
   "id": "53ff8726",
   "metadata": {
    "scrolled": false
   },
   "outputs": [
    {
     "name": "stderr",
     "output_type": "stream",
     "text": [
      "INFO:sagemaker.image_uris:Same images used for training and inference. Defaulting to image scope: inference.\n",
      "INFO:sagemaker.image_uris:Ignoring unnecessary instance type: None.\n",
      "INFO:sagemaker:Creating model with name: sagemaker-soln-fdml--rcff\n",
      "INFO:sagemaker:Creating endpoint-config with name sagemaker-soln-fdml--rcff\n",
      "INFO:sagemaker:Creating endpoint with name sagemaker-soln-fdml--rcff\n"
     ]
    },
    {
     "name": "stdout",
     "output_type": "stream",
     "text": [
      "---------!"
     ]
    }
   ],
   "source": [
    "'''try:\n",
    "    rcf_predictor.delete_endpoint()\n",
    "    print(\"Deleted existing endpoint.\")\n",
    "except Exception as e:\n",
    "    print(\"No existing endpoint to delete.\")'''\n",
    "    \n",
    "# We Deploy the Random Cut Forest (RCF) model for inference\n",
    "rcf_predictor = rcf.deploy(\n",
    "    model_name=\"{}-rcff\".format(config.SOLUTION_PREFIX),\n",
    "    endpoint_name=\"{}-rcff\".format(config.SOLUTION_PREFIX),\n",
    "    initial_instance_count=1,\n",
    "    instance_type=instance_type)"
   ]
  },
  {
   "cell_type": "markdown",
   "id": "4134d9f9",
   "metadata": {},
   "source": [
    "Here we configure the `SageMaker predictor` (rcf_predictor) for `the Random Cut Forest (RCF)` model"
   ]
  },
  {
   "cell_type": "code",
   "execution_count": 15,
   "id": "0134dddd",
   "metadata": {
    "scrolled": true
   },
   "outputs": [],
   "source": [
    "# We Import necessary SageMaker serializer and deserializer modules\n",
    "from sagemaker.serializers import CSVSerializer\n",
    "from sagemaker.deserializers import JSONDeserializer'\n",
    "\n",
    "# We Configure the SageMaker predictor for the Random Cut Forest (RCF) model\n",
    "rcf_predictor.content_type = 'text/csv'\n",
    "rcf_predictor.serializer = CSVSerializer()\n",
    "rcf_predictor.accept = 'application/json'\n",
    "rcf_predictor.deserializer = JSONDeserializer()"
   ]
  },
  {
   "cell_type": "markdown",
   "id": "df23f3f5",
   "metadata": {},
   "source": [
    "Here we define a function, `predict_rcf`, for making predictions using the provided SageMaker predictor (`current_predictor`). The function handles data splitting into smaller batches to accommodate larger datasets, making predictions on each batch, and then consolidating the results."
   ]
  },
  {
   "cell_type": "code",
   "execution_count": 16,
   "id": "d76a9d95",
   "metadata": {},
   "outputs": [],
   "source": [
    "def predict_rcf(current_predictor, data, rows=500):\n",
    "    split_array = np.array_split(data, int(data.shape[0] / float(rows) + 1))\n",
    "    predictions = []\n",
    "    for array in split_array:\n",
    "        array_preds = [s['score'] for s in current_predictor.predict(array)['scores']]\n",
    "        predictions.append(array_preds)\n",
    "\n",
    "    return np.concatenate([np.array(batch) for batch in predictions])"
   ]
  },
  {
   "cell_type": "markdown",
   "id": "e1a801b5",
   "metadata": {},
   "source": [
    "For evaluation purposes, we define the features associated with the positive and negative labels respictively "
   ]
  },
  {
   "cell_type": "code",
   "execution_count": 17,
   "id": "0fdff6ed",
   "metadata": {},
   "outputs": [],
   "source": [
    "# We retrieving the positive features \n",
    "indexes_pos = y_test[y_test['Class']==1].index\n",
    "positives = X_test[X_test.index.isin(indexes_pos)]\n",
    "\n",
    "# We retrieving the negative features \n",
    "indexes_neg = y_test[y_test['Class']==0].index\n",
    "negatives = X_test[X_test.index.isin(indexes_neg)]"
   ]
  },
  {
   "cell_type": "markdown",
   "id": "12622e73",
   "metadata": {},
   "source": [
    "Then we predict the scores associated with each class "
   ]
  },
  {
   "cell_type": "code",
   "execution_count": 18,
   "id": "a66c69cd",
   "metadata": {},
   "outputs": [
    {
     "name": "stderr",
     "output_type": "stream",
     "text": [
      "/home/ec2-user/anaconda3/envs/python3/lib/python3.10/site-packages/numpy/core/fromnumeric.py:57: FutureWarning: 'DataFrame.swapaxes' is deprecated and will be removed in a future version. Please use 'DataFrame.transpose' instead.\n",
      "  return bound(*args, **kwds)\n"
     ]
    }
   ],
   "source": [
    "import numpy as np\n",
    "\n",
    "positives_scores = predict_rcf(rcf_predictor, positives)\n",
    "negatives_scores = predict_rcf(rcf_predictor, negatives)"
   ]
  },
  {
   "cell_type": "markdown",
   "id": "2c129bf3",
   "metadata": {},
   "source": [
    "### Visualisation of the two classes ditribution"
   ]
  },
  {
   "cell_type": "code",
   "execution_count": 19,
   "id": "e205df31",
   "metadata": {},
   "outputs": [
    {
     "name": "stderr",
     "output_type": "stream",
     "text": [
      "INFO:matplotlib.font_manager:generated new fontManager\n",
      "/tmp/ipykernel_10531/702184725.py:5: UserWarning: \n",
      "\n",
      "`distplot` is a deprecated function and will be removed in seaborn v0.14.0.\n",
      "\n",
      "Please adapt your code to use either `displot` (a figure-level function with\n",
      "similar flexibility) or `histplot` (an axes-level function for histograms).\n",
      "\n",
      "For a guide to updating your code to use the new functions, please see\n",
      "https://gist.github.com/mwaskom/de44147ed2974457ad6372750bbe5751\n",
      "\n",
      "  sns.distplot(positives_scores, label='fraud', bins=20)\n",
      "/tmp/ipykernel_10531/702184725.py:6: UserWarning: \n",
      "\n",
      "`distplot` is a deprecated function and will be removed in seaborn v0.14.0.\n",
      "\n",
      "Please adapt your code to use either `displot` (a figure-level function with\n",
      "similar flexibility) or `histplot` (an axes-level function for histograms).\n",
      "\n",
      "For a guide to updating your code to use the new functions, please see\n",
      "https://gist.github.com/mwaskom/de44147ed2974457ad6372750bbe5751\n",
      "\n",
      "  sns.distplot(negatives_scores, label='not-fraud', bins=20)\n"
     ]
    },
    {
     "data": {
      "text/plain": [
       "<matplotlib.legend.Legend at 0x7ff0fcdb6350>"
      ]
     },
     "execution_count": 19,
     "metadata": {},
     "output_type": "execute_result"
    },
    {
     "data": {
      "image/png": "[encoded data removed]",
      "text/plain": [
       "<Figure size 640x480 with 1 Axes>"
      ]
     },
     "metadata": {},
     "output_type": "display_data"
    }
   ],
   "source": [
    "import seaborn as sns\n",
    "import matplotlib.pyplot as plt\n",
    "sns.set(color_codes=True)\n",
    "\n",
    "sns.distplot(positives_scores, label='fraud', bins=20)\n",
    "sns.distplot(negatives_scores, label='not-fraud', bins=20)\n",
    "plt.legend()"
   ]
  },
  {
   "cell_type": "markdown",
   "id": "7863c885",
   "metadata": {},
   "source": [
    "## Generating Trafic and realtime prediction"
   ]
  },
  {
   "cell_type": "code",
   "execution_count": 20,
   "id": "c2149f9c",
   "metadata": {},
   "outputs": [],
   "source": [
    "import warnings\n",
    "warnings.filterwarnings('ignore')\n",
    "\n",
    "import logging\n",
    "\n",
    "logging.basicConfig()\n",
    "logging.getLogger('botocore.credentials').setLevel(logging.WARNING)"
   ]
  },
  {
   "cell_type": "code",
   "execution_count": 21,
   "id": "f69a2b7e",
   "metadata": {},
   "outputs": [],
   "source": [
    "force_traffic_generation = False"
   ]
  },
  {
   "cell_type": "markdown",
   "id": "543e411d",
   "metadata": {},
   "source": [
    "We initiate the generation of endpoint traffic for model evaluation. If the SageMaker mode is set to *\"NotebookInstance\"* or if explicitly forced by `force_traffic_generation`, it launches a separate thread to execute the generate_traffic function, passing a copy of the test data `(X_test)` as an argument."
   ]
  },
  {
   "cell_type": "code",
   "execution_count": 24,
   "id": "ed38d7e9",
   "metadata": {
    "scrolled": true
   },
   "outputs": [],
   "source": [
    "import numpy as np\n",
    "from threading import Thread\n",
    "from package.generate_endpoint_traffic import generate_traffic\n",
    "\n",
    "if config.SAGEMAKER_MODE == \"NotebookInstance\" or force_traffic_generation:\n",
    "    thread = Thread(target = generate_traffic, args=[np.copy(X_test)])\n",
    "    thread.start()"
   ]
  },
  {
   "cell_type": "code",
   "execution_count": 25,
   "id": "5ca5b2ed",
   "metadata": {
    "scrolled": true
   },
   "outputs": [
    {
     "name": "stdout",
     "output_type": "stream",
     "text": [
      "SAGEMAKER_MODE: NotebookInstance\n",
      "force_traffic_generation: False\n",
      "AWS_REGION: eu-west-3\n",
      "SOLUTION_PREFIX: sagemaker-soln-fdml-\n"
     ]
    },
    {
     "data": {
      "text/markdown": [
       "[Link to Lambda Monitoring](https://eu-west-3.console.aws.amazon.com/lambda/home?region=eu-west-3#/functions/sagemaker-soln-fdml--event-processor?tab=monitoring)"
      ],
      "text/plain": [
       "<IPython.core.display.Markdown object>"
      ]
     },
     "execution_count": 25,
     "metadata": {},
     "output_type": "execute_result"
    }
   ],
   "source": [
    "from IPython.display import Markdown as md\n",
    "\n",
    "# We Print variable values\n",
    "print(f\"SAGEMAKER_MODE: {config.SAGEMAKER_MODE}\")\n",
    "print(f\"force_traffic_generation: {force_traffic_generation}\")\n",
    "print(f\"AWS_REGION: {config.AWS_REGION}\")\n",
    "print(f\"SOLUTION_PREFIX: {config.SOLUTION_PREFIX}\")\n",
    "\n",
    "md(f\"[Link to Lambda Monitoring](https://{config.AWS_REGION}.console.aws.amazon.com/lambda/home?region={config.AWS_REGION}#/functions/{config.SOLUTION_PREFIX}-event-processor?tab=monitoring)\")\n",
    "    "
   ]
  },
  {
   "cell_type": "markdown",
   "id": "19b1546e",
   "metadata": {},
   "source": [
    " here we configure a Real-Time Predictor `(rcf_real_time_predictor)` for the deployed Random Cut Forest (RCF) model using SageMaker. We set the endpoint name, serializer, deserializer (set to None for custom processing), and content type for making predictions"
   ]
  },
  {
   "cell_type": "code",
   "execution_count": 26,
   "id": "da6f0833",
   "metadata": {
    "scrolled": true
   },
   "outputs": [
    {
     "name": "stderr",
     "output_type": "stream",
     "text": [
      "WARNING:sagemaker.deprecations:The class RealTimePredictor has been renamed in sagemaker>=2.\n",
      "See: https://sagemaker.readthedocs.io/en/stable/v2.html for details.\n",
      "WARNING:sagemaker.deprecations:content_type is a no-op in sagemaker>=2.\n",
      "See: https://sagemaker.readthedocs.io/en/stable/v2.html for details.\n"
     ]
    }
   ],
   "source": [
    "from sagemaker.predictor import RealTimePredictor\n",
    "\n",
    "rcf_real_time_predictor = RealTimePredictor(endpoint_name=\"{}-rcff\".format(config.SOLUTION_PREFIX),\n",
    "                          serializer=CSVSerializer(),\n",
    "                          deserializer=None,\n",
    "                          content_type='text/csv')"
   ]
  },
  {
   "cell_type": "markdown",
   "id": "e9bca2ba",
   "metadata": {},
   "source": [
    "Then we configure our real-time predictor excaly how we did for the previous predictor "
   ]
  },
  {
   "cell_type": "code",
   "execution_count": 27,
   "id": "9c67e9a8",
   "metadata": {
    "scrolled": true
   },
   "outputs": [],
   "source": [
    "def predict(current_predictor, data, rows=500):\n",
    "    split_array = np.array_split(data, int(data.shape[0] / float(rows) + 1))\n",
    "    predictions = []\n",
    "    for array in split_array:\n",
    "        result = current_predictor.predict(array)\n",
    "        predicted_values = [item['score'] for item in result['scores']]\n",
    "        predictions.extend(predicted_values)\n",
    "\n",
    "    return predictions\n",
    "\n",
    "rcf_real_time_predictor.content_type = 'text/csv'\n",
    "rcf_real_time_predictor.serializer = CSVSerializer()\n",
    "rcf_real_time_predictor.accept = 'application/json'\n",
    "rcf_real_time_predictor.deserializer = JSONDeserializer()"
   ]
  },
  {
   "cell_type": "markdown",
   "id": "01cc9c27",
   "metadata": {},
   "source": [
    "### Clustering Anomaly Scores Using K-Means"
   ]
  },
  {
   "cell_type": "markdown",
   "id": "588697fd",
   "metadata": {},
   "source": [
    "To obtain a clear representation of the two distributions after assigning a score to each transaction, we opted to utilize K-means clustering for visual separation."
   ]
  },
  {
   "cell_type": "code",
   "execution_count": 28,
   "id": "2238d6b3",
   "metadata": {},
   "outputs": [],
   "source": [
    "# We Import necessary libraries\n",
    "import matplotlib.pyplot as plt\n",
    "from sklearn.cluster import KMeans\n",
    "\n",
    "# We Obtain anomaly scores using the Real-Time Predictor for the Random Cut Forest (RCF) model\n",
    "scores = np.array(predict(rcf_real_time_predictor, X_test)).reshape(-1, 1)\n",
    "\n",
    "# We Specify the number of clusters for K-Means\n",
    "num_clusters = 2\n",
    "\n",
    "# We Apply K-Means clustering to the anomaly scores\n",
    "kmeans = KMeans(n_clusters=num_clusters, random_state=42)\n",
    "kmeans.fit(scores)\n",
    "\n",
    "# We Assign cluster labels\n",
    "labels = kmeans.labels_\n",
    "\n",
    "# We Separate anomaly scores into clusters\n",
    "cluster1 = scores[labels == 0]\n",
    "cluster2 = scores[labels == 1]"
   ]
  },
  {
   "cell_type": "markdown",
   "id": "7324a6ff",
   "metadata": {},
   "source": [
    "Then we plot the distributions of the two clusters based on the clustering results "
   ]
  },
  {
   "cell_type": "code",
   "execution_count": null,
   "id": "94ed3603",
   "metadata": {},
   "outputs": [],
   "source": [
    "import seaborn as sns\n",
    "\n",
    "plt.figure(figsize=(10, 6))\n",
    "\n",
    "sns.distplot(cluster1.flatten(), color='blue', label='Cluster 1')\n",
    "sns.distplot(cluster2.flatten(), color='orange', label='Cluster 2')\n",
    "\n",
    "plt.title('Density Plot of Scores in Both Clusters')\n",
    "plt.xlabel('Scores')\n",
    "plt.ylabel('Density')\n",
    "plt.legend()\n",
    "\n",
    "plt.show()"
   ]
  },
  {
   "cell_type": "markdown",
   "id": "9b1b4bef",
   "metadata": {},
   "source": [
    "and finally we delete the models and endpoints associated with the Batch Transform and Real-Time Predictions Random Cut Forest (RCF) models and we clean our environements for future uses."
   ]
  },
  {
   "cell_type": "code",
   "execution_count": null,
   "id": "0cce97c4",
   "metadata": {},
   "outputs": [],
   "source": [
    "rcf_predictor.delete_model()\n",
    "rcf_predictor.delete_endpoint()\n",
    "rcf_real_time_predictor.delete_model()\n",
    "rcf_real_time_predictor.delete_endpoint()\n",
    "sm_client = boto3.client('sagemaker', region_name=config.AWS_REGION)\n",
    "waiter = sm_client.get_waiter('endpoint_deleted')\n",
    "waiter.wait(EndpointName=\"{}-rcff\".format(config.SOLUTION_PREFIX))"
   ]
  },
  {
   "cell_type": "markdown",
   "id": "85f130b2",
   "metadata": {},
   "source": [
    "## **Conclusion**\n",
    "\n",
    "In this project, we have successfully demonstrated the deployment and evaluation of a Random Cut Forest (RCF) model for credit card fraud detection using Amazon SageMaker. The key phases included setting up the environment, training and deploying the model, processing and engineering features, and finally, evaluating the model's performance through clustering and traffic generation.\n",
    "\n",
    "The significance of this project is evident in its direct applicability to real-world scenarios where credit card fraud presents a considerable threat. By harnessing machine learning models like RCF, Zen Netwrok can bolster their fraud and anomally detection capabilities, thereby fortifying financial transactions and shielding customers from unauthorized activities.\n",
    "\n",
    "This project furnishes a scalable framework adaptable to larger datasets (similar to what we actually have for Zen Netwrok), empowering the company to implement robust fraud detection systems."
   ]
  }
 ],
 "metadata": {
  "kernelspec": {
   "display_name": "conda_python3",
   "language": "python",
   "name": "conda_python3"
  },
  "language_info": {
   "codemirror_mode": {
    "name": "ipython",
    "version": 3
   },
   "file_extension": ".py",
   "mimetype": "text/x-python",
   "name": "python",
   "nbconvert_exporter": "python",
   "pygments_lexer": "ipython3",
   "version": "3.10.13"
  }
 },
 "nbformat": 4,
 "nbformat_minor": 5
}
